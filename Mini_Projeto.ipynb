{
 "cells": [
  {
   "cell_type": "markdown",
   "metadata": {},
   "source": [
    "# Analise_de_Dados\n",
    "\n",
    "Dados(Não Reais) de 2019 de uma empresa de prestação de serviços(Não Real). \n",
    "\n",
    "- CadastroFuncionarios\n",
    "- CadastroClientes\n",
    "- BaseServiçosPrestados\n"
   ]
  },
  {
   "cell_type": "code",
   "execution_count": 101,
   "metadata": {},
   "outputs": [],
   "source": [
    "import pandas as pd\n",
    "import pandas as pd\n",
    "import seaborn as sns\n",
    "import matplotlib.pyplot as plt\n",
    "\n",
    "funcionarios_df = pd.read_csv('CadastroFuncionarios.csv',sep=';', decimal=',') \n",
    "\n",
    "clientes_df = pd.read_csv(r'CadastroClientes.csv',sep=';', decimal=',')\n",
    "\n",
    "servicos_df = pd.read_excel(r'BaseServiçosPrestados.xlsx')\n",
    "\n",
    "funcionarios_df = funcionarios_df.drop(['Estado Civil','Cargo'], axis=1)\n",
    "\n"
   ]
  },
  {
   "cell_type": "code",
   "execution_count": 102,
   "metadata": {},
   "outputs": [
    {
     "data": {
      "text/html": [
       "<div>\n",
       "<style scoped>\n",
       "    .dataframe tbody tr th:only-of-type {\n",
       "        vertical-align: middle;\n",
       "    }\n",
       "\n",
       "    .dataframe tbody tr th {\n",
       "        vertical-align: top;\n",
       "    }\n",
       "\n",
       "    .dataframe thead th {\n",
       "        text-align: right;\n",
       "    }\n",
       "</style>\n",
       "<table border=\"1\" class=\"dataframe\">\n",
       "  <thead>\n",
       "    <tr style=\"text-align: right;\">\n",
       "      <th></th>\n",
       "      <th>ID Funcionário</th>\n",
       "      <th>Nome Completo</th>\n",
       "      <th>Salario Base</th>\n",
       "      <th>Impostos</th>\n",
       "      <th>Beneficios</th>\n",
       "      <th>VT</th>\n",
       "      <th>VR</th>\n",
       "      <th>Area</th>\n",
       "    </tr>\n",
       "  </thead>\n",
       "  <tbody>\n",
       "    <tr>\n",
       "      <th>103</th>\n",
       "      <td>133</td>\n",
       "      <td>Adrielle Sá Rodrigues</td>\n",
       "      <td>11424</td>\n",
       "      <td>5712.0</td>\n",
       "      <td>2284.8</td>\n",
       "      <td>286</td>\n",
       "      <td>540.96</td>\n",
       "      <td>Logística</td>\n",
       "    </tr>\n",
       "    <tr>\n",
       "      <th>64</th>\n",
       "      <td>80</td>\n",
       "      <td>Frederico Vidal</td>\n",
       "      <td>7833</td>\n",
       "      <td>3916.5</td>\n",
       "      <td>1566.6</td>\n",
       "      <td>220</td>\n",
       "      <td>517.44</td>\n",
       "      <td>Comercial</td>\n",
       "    </tr>\n",
       "    <tr>\n",
       "      <th>83</th>\n",
       "      <td>105</td>\n",
       "      <td>Roberta Vaz</td>\n",
       "      <td>21315</td>\n",
       "      <td>10657.5</td>\n",
       "      <td>4263.0</td>\n",
       "      <td>286</td>\n",
       "      <td>698.88</td>\n",
       "      <td>Comercial</td>\n",
       "    </tr>\n",
       "    <tr>\n",
       "      <th>59</th>\n",
       "      <td>74</td>\n",
       "      <td>Átila Godoy de Melo</td>\n",
       "      <td>8831</td>\n",
       "      <td>4415.5</td>\n",
       "      <td>1766.2</td>\n",
       "      <td>264</td>\n",
       "      <td>668.64</td>\n",
       "      <td>Financeiro</td>\n",
       "    </tr>\n",
       "    <tr>\n",
       "      <th>93</th>\n",
       "      <td>121</td>\n",
       "      <td>Paulo Rodrigues Pereira</td>\n",
       "      <td>9870</td>\n",
       "      <td>4935.0</td>\n",
       "      <td>1974.0</td>\n",
       "      <td>220</td>\n",
       "      <td>661.92</td>\n",
       "      <td>Logística</td>\n",
       "    </tr>\n",
       "  </tbody>\n",
       "</table>\n",
       "</div>"
      ],
      "text/plain": [
       "     ID Funcionário            Nome Completo  Salario Base  Impostos  \\\n",
       "103             133    Adrielle Sá Rodrigues         11424    5712.0   \n",
       "64               80          Frederico Vidal          7833    3916.5   \n",
       "83              105              Roberta Vaz         21315   10657.5   \n",
       "59               74      Átila Godoy de Melo          8831    4415.5   \n",
       "93              121  Paulo Rodrigues Pereira          9870    4935.0   \n",
       "\n",
       "     Beneficios   VT      VR        Area  \n",
       "103      2284.8  286  540.96   Logística  \n",
       "64       1566.6  220  517.44   Comercial  \n",
       "83       4263.0  286  698.88   Comercial  \n",
       "59       1766.2  264  668.64  Financeiro  \n",
       "93       1974.0  220  661.92   Logística  "
      ]
     },
     "execution_count": 102,
     "metadata": {},
     "output_type": "execute_result"
    }
   ],
   "source": [
    "\n",
    "funcionarios_df.sample(5)\n"
   ]
  },
  {
   "cell_type": "code",
   "execution_count": 103,
   "metadata": {},
   "outputs": [
    {
     "data": {
      "text/html": [
       "<div>\n",
       "<style scoped>\n",
       "    .dataframe tbody tr th:only-of-type {\n",
       "        vertical-align: middle;\n",
       "    }\n",
       "\n",
       "    .dataframe tbody tr th {\n",
       "        vertical-align: top;\n",
       "    }\n",
       "\n",
       "    .dataframe thead th {\n",
       "        text-align: right;\n",
       "    }\n",
       "</style>\n",
       "<table border=\"1\" class=\"dataframe\">\n",
       "  <thead>\n",
       "    <tr style=\"text-align: right;\">\n",
       "      <th></th>\n",
       "      <th>ID Cliente</th>\n",
       "      <th>Cliente</th>\n",
       "      <th>Valor Contrato Mensal</th>\n",
       "    </tr>\n",
       "  </thead>\n",
       "  <tbody>\n",
       "    <tr>\n",
       "      <th>268</th>\n",
       "      <td>269</td>\n",
       "      <td>Minhoto Araújo</td>\n",
       "      <td>1170</td>\n",
       "    </tr>\n",
       "    <tr>\n",
       "      <th>222</th>\n",
       "      <td>223</td>\n",
       "      <td>Gonçalves Santos</td>\n",
       "      <td>1710</td>\n",
       "    </tr>\n",
       "    <tr>\n",
       "      <th>299</th>\n",
       "      <td>300</td>\n",
       "      <td>Lorena Costa</td>\n",
       "      <td>2655</td>\n",
       "    </tr>\n",
       "    <tr>\n",
       "      <th>139</th>\n",
       "      <td>140</td>\n",
       "      <td>Félix Cotta</td>\n",
       "      <td>3150</td>\n",
       "    </tr>\n",
       "    <tr>\n",
       "      <th>16</th>\n",
       "      <td>17</td>\n",
       "      <td>Alberto Martins</td>\n",
       "      <td>3780</td>\n",
       "    </tr>\n",
       "  </tbody>\n",
       "</table>\n",
       "</div>"
      ],
      "text/plain": [
       "     ID Cliente           Cliente  Valor Contrato Mensal\n",
       "268         269    Minhoto Araújo                   1170\n",
       "222         223  Gonçalves Santos                   1710\n",
       "299         300      Lorena Costa                   2655\n",
       "139         140       Félix Cotta                   3150\n",
       "16           17   Alberto Martins                   3780"
      ]
     },
     "execution_count": 103,
     "metadata": {},
     "output_type": "execute_result"
    }
   ],
   "source": [
    "\n",
    "clientes_df.sample(5)\n"
   ]
  },
  {
   "cell_type": "code",
   "execution_count": 104,
   "metadata": {},
   "outputs": [
    {
     "data": {
      "text/html": [
       "<div>\n",
       "<style scoped>\n",
       "    .dataframe tbody tr th:only-of-type {\n",
       "        vertical-align: middle;\n",
       "    }\n",
       "\n",
       "    .dataframe tbody tr th {\n",
       "        vertical-align: top;\n",
       "    }\n",
       "\n",
       "    .dataframe thead th {\n",
       "        text-align: right;\n",
       "    }\n",
       "</style>\n",
       "<table border=\"1\" class=\"dataframe\">\n",
       "  <thead>\n",
       "    <tr style=\"text-align: right;\">\n",
       "      <th></th>\n",
       "      <th>Codigo do Servico</th>\n",
       "      <th>ID Funcionário</th>\n",
       "      <th>ID Cliente</th>\n",
       "      <th>Tempo Total de Contrato (Meses)</th>\n",
       "      <th>Unnamed: 4</th>\n",
       "      <th>Unnamed: 5</th>\n",
       "    </tr>\n",
       "  </thead>\n",
       "  <tbody>\n",
       "    <tr>\n",
       "      <th>192</th>\n",
       "      <td>OS0193</td>\n",
       "      <td>47</td>\n",
       "      <td>259</td>\n",
       "      <td>6</td>\n",
       "      <td>NaN</td>\n",
       "      <td>NaN</td>\n",
       "    </tr>\n",
       "    <tr>\n",
       "      <th>216</th>\n",
       "      <td>OS0217</td>\n",
       "      <td>103</td>\n",
       "      <td>294</td>\n",
       "      <td>10</td>\n",
       "      <td>NaN</td>\n",
       "      <td>NaN</td>\n",
       "    </tr>\n",
       "    <tr>\n",
       "      <th>222</th>\n",
       "      <td>OS0223</td>\n",
       "      <td>121</td>\n",
       "      <td>303</td>\n",
       "      <td>4</td>\n",
       "      <td>NaN</td>\n",
       "      <td>NaN</td>\n",
       "    </tr>\n",
       "    <tr>\n",
       "      <th>42</th>\n",
       "      <td>OS0043</td>\n",
       "      <td>142</td>\n",
       "      <td>52</td>\n",
       "      <td>12</td>\n",
       "      <td>NaN</td>\n",
       "      <td>NaN</td>\n",
       "    </tr>\n",
       "    <tr>\n",
       "      <th>7</th>\n",
       "      <td>OS0008</td>\n",
       "      <td>11</td>\n",
       "      <td>9</td>\n",
       "      <td>6</td>\n",
       "      <td>NaN</td>\n",
       "      <td>NaN</td>\n",
       "    </tr>\n",
       "  </tbody>\n",
       "</table>\n",
       "</div>"
      ],
      "text/plain": [
       "    Codigo do Servico  ID Funcionário  ID Cliente  \\\n",
       "192            OS0193              47         259   \n",
       "216            OS0217             103         294   \n",
       "222            OS0223             121         303   \n",
       "42             OS0043             142          52   \n",
       "7              OS0008              11           9   \n",
       "\n",
       "     Tempo Total de Contrato (Meses)  Unnamed: 4  Unnamed: 5  \n",
       "192                                6         NaN         NaN  \n",
       "216                               10         NaN         NaN  \n",
       "222                                4         NaN         NaN  \n",
       "42                                12         NaN         NaN  \n",
       "7                                  6         NaN         NaN  "
      ]
     },
     "execution_count": 104,
     "metadata": {},
     "output_type": "execute_result"
    }
   ],
   "source": [
    "\n",
    "servicos_df.sample(5)\n"
   ]
  },
  {
   "cell_type": "markdown",
   "metadata": {},
   "source": [
    "### 1 - Folha Salarial \n"
   ]
  },
  {
   "cell_type": "markdown",
   "metadata": {},
   "source": [
    "\n"
   ]
  },
  {
   "cell_type": "code",
   "execution_count": 105,
   "metadata": {},
   "outputs": [
    {
     "name": "stdout",
     "output_type": "stream",
     "text": [
      "\u001b[1;34mO Total da Folha de Pagamento é: \u001b[1;32mR$ 2,717,493.22\u001b[m \n"
     ]
    }
   ],
   "source": [
    "\n",
    "funcionarios_df['Total_Folha'] = funcionarios_df.loc[:,'Salario Base':'VR'].sum(axis=1)\n",
    "total_folha_pagamento = funcionarios_df['Total_Folha'].sum(axis=0)\n",
    "print('\\033[1;34mO Total da Folha de Pagamento é: \\033[1;32mR$ {:,.2f}\\033[m '.format(total_folha_pagamento))\n"
   ]
  },
  {
   "cell_type": "markdown",
   "metadata": {},
   "source": [
    "### 2 - Faturamento da Empresa"
   ]
  },
  {
   "cell_type": "code",
   "execution_count": 106,
   "metadata": {},
   "outputs": [
    {
     "name": "stdout",
     "output_type": "stream",
     "text": [
      "\u001b[1;34mO Faturamento da Empresa foi: \u001b[1;32mR$ 5,519,160.00\u001b[m\n"
     ]
    }
   ],
   "source": [
    "\n",
    "f_t = servicos_df[['ID Cliente','Tempo Total de Contrato (Meses)']].merge(clientes_df[['ID Cliente','Valor Contrato Mensal']])\n",
    "f_t['Faturamento Total'] = f_t['Tempo Total de Contrato (Meses)'] * f_t['Valor Contrato Mensal']\n",
    "print('\\033[1;34mO Faturamento da Empresa foi: \\033[1;32mR$ {:,.2f}\\033[m'.format(sum(f_t['Faturamento Total'])))\n"
   ]
  },
  {
   "cell_type": "markdown",
   "metadata": {},
   "source": [
    "### 3 - Percentual de Funcionarios Que Fecharam Contrato"
   ]
  },
  {
   "cell_type": "code",
   "execution_count": 107,
   "metadata": {},
   "outputs": [
    {
     "name": "stdout",
     "output_type": "stream",
     "text": [
      "\u001b[1;34mPercentual de Funcionarios que fecharam contrato: \u001b[1;32m86.84%\u001b[m\n"
     ]
    }
   ],
   "source": [
    "\n",
    "a = len(servicos_df['ID Funcionário'].unique())\n",
    "a_t = len(funcionarios_df['ID Funcionário'])\n",
    "print('\\033[1;34mPercentual de Funcionarios que fecharam contrato: \\033[1;32m{:.2%}\\033[m'.format(a/a_t))\n"
   ]
  },
  {
   "cell_type": "markdown",
   "metadata": {},
   "source": [
    "### 4 - Qtde Contratos por Área"
   ]
  },
  {
   "cell_type": "code",
   "execution_count": 109,
   "metadata": {},
   "outputs": [
    {
     "data": {
      "text/plain": [
       "Administrativo    63\n",
       "Operações         48\n",
       "Comercial         44\n",
       "Financeiro        42\n",
       "Logística         40\n",
       "Name: Area, dtype: int64"
      ]
     },
     "execution_count": 109,
     "metadata": {},
     "output_type": "execute_result"
    }
   ],
   "source": [
    "\n",
    "contratos_area_df = servicos_df.merge(funcionarios_df[['ID Funcionário','Area']], on='ID Funcionário')\n",
    "\n",
    "contratos_area_qtde = contratos_area_df['Area']\n",
    "\n",
    "contratos_area_qtde.value_counts()\n"
   ]
  },
  {
   "cell_type": "markdown",
   "metadata": {},
   "source": [
    "### 5 - Funcioários por Área"
   ]
  },
  {
   "cell_type": "code",
   "execution_count": 110,
   "metadata": {},
   "outputs": [
    {
     "data": {
      "image/png": "[encoded data removed]",
      "text/plain": [
       "<Figure size 432x288 with 1 Axes>"
      ]
     },
     "metadata": {
      "needs_background": "light"
     },
     "output_type": "display_data"
    }
   ],
   "source": [
    "\n",
    "funcionarios_por_area = funcionarios_df['Area'].value_counts()\n",
    "\n",
    "funcionarios_por_area.plot(kind='bar', \n",
    "                           xlabel= 'Área', \n",
    "                           ylabel = 'Funcionários', \n",
    "                           title = 'Funcionários por Área',\n",
    "                           color = '#00FF00'\n",
    "                          ); \n"
   ]
  },
  {
   "cell_type": "markdown",
   "metadata": {},
   "source": [
    "### 6 - Ticket Médio Mensal"
   ]
  },
  {
   "cell_type": "code",
   "execution_count": 111,
   "metadata": {},
   "outputs": [
    {
     "name": "stdout",
     "output_type": "stream",
     "text": [
      "\u001b[1;34mTicket Médio Mensal = \u001b[1;32mR$ 2,502.56\u001b[m\n"
     ]
    }
   ],
   "source": [
    "\n",
    "ticket = clientes_df['Valor Contrato Mensal'].mean()\n",
    "print('\\033[1;34mTicket Médio Mensal = \\033[1;32mR$ {:,.2f}\\033[m'.format(ticket))            \n"
   ]
  }
 ],
 "metadata": {
  "kernelspec": {
   "display_name": "Python 3",
   "language": "python",
   "name": "python3"
  },
  "language_info": {
   "codemirror_mode": {
    "name": "ipython",
    "version": 3
   },
   "file_extension": ".py",
   "mimetype": "text/x-python",
   "name": "python",
   "nbconvert_exporter": "python",
   "pygments_lexer": "ipython3",
   "version": "3.8.8"
  }
 },
 "nbformat": 4,
 "nbformat_minor": 4
}
