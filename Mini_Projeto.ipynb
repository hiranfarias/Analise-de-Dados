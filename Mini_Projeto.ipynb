{
 "cells": [
  {
   "cell_type": "markdown",
   "metadata": {},
   "source": [
    "# Analise_de_Dados\n",
    "\n",
    "Dados(Não Reais) de 2019 de uma empresa de prestação de serviços(Não Real). \n",
    "\n",
    "- CadastroFuncionarios\n",
    "- CadastroClientes\n",
    "- BaseServiçosPrestados\n"
   ]
  },
  {
   "cell_type": "code",
   "execution_count": 1,
   "metadata": {},
   "outputs": [],
   "source": [
    "import pandas as pd\n",
    "import pandas as pd\n",
    "import seaborn as sns\n",
    "import matplotlib.pyplot as plt\n",
    "\n",
    "funcionarios_df = pd.read_csv('CadastroFuncionarios.csv',sep=';', decimal=',') \n",
    "\n",
    "clientes_df = pd.read_csv(r'CadastroClientes.csv',sep=';', decimal=',')\n",
    "\n",
    "servicos_df = pd.read_excel(r'BaseServiçosPrestados.xlsx')\n",
    "\n",
    "funcionarios_df = funcionarios_df.drop(['Estado Civil','Cargo'], axis=1)\n",
    "\n"
   ]
  },
  {
   "cell_type": "code",
   "execution_count": 2,
   "metadata": {},
   "outputs": [
    {
     "data": {
      "text/html": [
       "<div>\n",
       "<style scoped>\n",
       "    .dataframe tbody tr th:only-of-type {\n",
       "        vertical-align: middle;\n",
       "    }\n",
       "\n",
       "    .dataframe tbody tr th {\n",
       "        vertical-align: top;\n",
       "    }\n",
       "\n",
       "    .dataframe thead th {\n",
       "        text-align: right;\n",
       "    }\n",
       "</style>\n",
       "<table border=\"1\" class=\"dataframe\">\n",
       "  <thead>\n",
       "    <tr style=\"text-align: right;\">\n",
       "      <th></th>\n",
       "      <th>ID Funcionário</th>\n",
       "      <th>Nome Completo</th>\n",
       "      <th>Salario Base</th>\n",
       "      <th>Impostos</th>\n",
       "      <th>Beneficios</th>\n",
       "      <th>VT</th>\n",
       "      <th>VR</th>\n",
       "      <th>Area</th>\n",
       "    </tr>\n",
       "  </thead>\n",
       "  <tbody>\n",
       "    <tr>\n",
       "      <th>90</th>\n",
       "      <td>117</td>\n",
       "      <td>Flávio Jacques Gamboa Fernandez de Oliveira Netto</td>\n",
       "      <td>17709</td>\n",
       "      <td>8854.5</td>\n",
       "      <td>3541.8</td>\n",
       "      <td>220</td>\n",
       "      <td>614.88</td>\n",
       "      <td>Financeiro</td>\n",
       "    </tr>\n",
       "    <tr>\n",
       "      <th>22</th>\n",
       "      <td>27</td>\n",
       "      <td>Carolina Monteiro</td>\n",
       "      <td>1865</td>\n",
       "      <td>932.5</td>\n",
       "      <td>373.0</td>\n",
       "      <td>198</td>\n",
       "      <td>635.04</td>\n",
       "      <td>Financeiro</td>\n",
       "    </tr>\n",
       "    <tr>\n",
       "      <th>103</th>\n",
       "      <td>133</td>\n",
       "      <td>Adrielle Sá Rodrigues</td>\n",
       "      <td>11424</td>\n",
       "      <td>5712.0</td>\n",
       "      <td>2284.8</td>\n",
       "      <td>286</td>\n",
       "      <td>540.96</td>\n",
       "      <td>Logística</td>\n",
       "    </tr>\n",
       "    <tr>\n",
       "      <th>91</th>\n",
       "      <td>118</td>\n",
       "      <td>Lucas Martins</td>\n",
       "      <td>20424</td>\n",
       "      <td>10212.0</td>\n",
       "      <td>4084.8</td>\n",
       "      <td>308</td>\n",
       "      <td>708.96</td>\n",
       "      <td>Operações</td>\n",
       "    </tr>\n",
       "    <tr>\n",
       "      <th>84</th>\n",
       "      <td>109</td>\n",
       "      <td>Bruna Calmon</td>\n",
       "      <td>15076</td>\n",
       "      <td>7538.0</td>\n",
       "      <td>3015.2</td>\n",
       "      <td>242</td>\n",
       "      <td>624.96</td>\n",
       "      <td>Logística</td>\n",
       "    </tr>\n",
       "  </tbody>\n",
       "</table>\n",
       "</div>"
      ],
      "text/plain": [
       "     ID Funcionário                                      Nome Completo  \\\n",
       "90              117  Flávio Jacques Gamboa Fernandez de Oliveira Netto   \n",
       "22               27                                  Carolina Monteiro   \n",
       "103             133                              Adrielle Sá Rodrigues   \n",
       "91              118                                      Lucas Martins   \n",
       "84              109                                       Bruna Calmon   \n",
       "\n",
       "     Salario Base  Impostos  Beneficios   VT      VR        Area  \n",
       "90          17709    8854.5      3541.8  220  614.88  Financeiro  \n",
       "22           1865     932.5       373.0  198  635.04  Financeiro  \n",
       "103         11424    5712.0      2284.8  286  540.96   Logística  \n",
       "91          20424   10212.0      4084.8  308  708.96   Operações  \n",
       "84          15076    7538.0      3015.2  242  624.96   Logística  "
      ]
     },
     "execution_count": 2,
     "metadata": {},
     "output_type": "execute_result"
    }
   ],
   "source": [
    "\n",
    "funcionarios_df.sample(5)\n"
   ]
  },
  {
   "cell_type": "code",
   "execution_count": 3,
   "metadata": {},
   "outputs": [
    {
     "data": {
      "text/html": [
       "<div>\n",
       "<style scoped>\n",
       "    .dataframe tbody tr th:only-of-type {\n",
       "        vertical-align: middle;\n",
       "    }\n",
       "\n",
       "    .dataframe tbody tr th {\n",
       "        vertical-align: top;\n",
       "    }\n",
       "\n",
       "    .dataframe thead th {\n",
       "        text-align: right;\n",
       "    }\n",
       "</style>\n",
       "<table border=\"1\" class=\"dataframe\">\n",
       "  <thead>\n",
       "    <tr style=\"text-align: right;\">\n",
       "      <th></th>\n",
       "      <th>ID Cliente</th>\n",
       "      <th>Cliente</th>\n",
       "      <th>Valor Contrato Mensal</th>\n",
       "    </tr>\n",
       "  </thead>\n",
       "  <tbody>\n",
       "    <tr>\n",
       "      <th>40</th>\n",
       "      <td>41</td>\n",
       "      <td>Fernando Walter</td>\n",
       "      <td>900</td>\n",
       "    </tr>\n",
       "    <tr>\n",
       "      <th>129</th>\n",
       "      <td>130</td>\n",
       "      <td>Brigagao Ferreira</td>\n",
       "      <td>2475</td>\n",
       "    </tr>\n",
       "    <tr>\n",
       "      <th>250</th>\n",
       "      <td>251</td>\n",
       "      <td>Ávila Gaiotto</td>\n",
       "      <td>4410</td>\n",
       "    </tr>\n",
       "    <tr>\n",
       "      <th>33</th>\n",
       "      <td>34</td>\n",
       "      <td>Hugo Grippe</td>\n",
       "      <td>1890</td>\n",
       "    </tr>\n",
       "    <tr>\n",
       "      <th>171</th>\n",
       "      <td>172</td>\n",
       "      <td>Belluci Rocha</td>\n",
       "      <td>2385</td>\n",
       "    </tr>\n",
       "  </tbody>\n",
       "</table>\n",
       "</div>"
      ],
      "text/plain": [
       "     ID Cliente            Cliente  Valor Contrato Mensal\n",
       "40           41    Fernando Walter                    900\n",
       "129         130  Brigagao Ferreira                   2475\n",
       "250         251      Ávila Gaiotto                   4410\n",
       "33           34        Hugo Grippe                   1890\n",
       "171         172      Belluci Rocha                   2385"
      ]
     },
     "execution_count": 3,
     "metadata": {},
     "output_type": "execute_result"
    }
   ],
   "source": [
    "\n",
    "clientes_df.sample(5)\n"
   ]
  },
  {
   "cell_type": "code",
   "execution_count": 4,
   "metadata": {},
   "outputs": [
    {
     "data": {
      "text/html": [
       "<div>\n",
       "<style scoped>\n",
       "    .dataframe tbody tr th:only-of-type {\n",
       "        vertical-align: middle;\n",
       "    }\n",
       "\n",
       "    .dataframe tbody tr th {\n",
       "        vertical-align: top;\n",
       "    }\n",
       "\n",
       "    .dataframe thead th {\n",
       "        text-align: right;\n",
       "    }\n",
       "</style>\n",
       "<table border=\"1\" class=\"dataframe\">\n",
       "  <thead>\n",
       "    <tr style=\"text-align: right;\">\n",
       "      <th></th>\n",
       "      <th>Codigo do Servico</th>\n",
       "      <th>ID Funcionário</th>\n",
       "      <th>ID Cliente</th>\n",
       "      <th>Tempo Total de Contrato (Meses)</th>\n",
       "      <th>Unnamed: 4</th>\n",
       "      <th>Unnamed: 5</th>\n",
       "    </tr>\n",
       "  </thead>\n",
       "  <tbody>\n",
       "    <tr>\n",
       "      <th>31</th>\n",
       "      <td>OS0032</td>\n",
       "      <td>45</td>\n",
       "      <td>37</td>\n",
       "      <td>14</td>\n",
       "      <td>NaN</td>\n",
       "      <td>NaN</td>\n",
       "    </tr>\n",
       "    <tr>\n",
       "      <th>167</th>\n",
       "      <td>OS0168</td>\n",
       "      <td>118</td>\n",
       "      <td>228</td>\n",
       "      <td>12</td>\n",
       "      <td>NaN</td>\n",
       "      <td>NaN</td>\n",
       "    </tr>\n",
       "    <tr>\n",
       "      <th>14</th>\n",
       "      <td>OS0015</td>\n",
       "      <td>121</td>\n",
       "      <td>16</td>\n",
       "      <td>8</td>\n",
       "      <td>NaN</td>\n",
       "      <td>NaN</td>\n",
       "    </tr>\n",
       "    <tr>\n",
       "      <th>229</th>\n",
       "      <td>OS0230</td>\n",
       "      <td>14</td>\n",
       "      <td>310</td>\n",
       "      <td>12</td>\n",
       "      <td>NaN</td>\n",
       "      <td>NaN</td>\n",
       "    </tr>\n",
       "    <tr>\n",
       "      <th>127</th>\n",
       "      <td>OS0128</td>\n",
       "      <td>67</td>\n",
       "      <td>175</td>\n",
       "      <td>6</td>\n",
       "      <td>NaN</td>\n",
       "      <td>NaN</td>\n",
       "    </tr>\n",
       "  </tbody>\n",
       "</table>\n",
       "</div>"
      ],
      "text/plain": [
       "    Codigo do Servico  ID Funcionário  ID Cliente  \\\n",
       "31             OS0032              45          37   \n",
       "167            OS0168             118         228   \n",
       "14             OS0015             121          16   \n",
       "229            OS0230              14         310   \n",
       "127            OS0128              67         175   \n",
       "\n",
       "     Tempo Total de Contrato (Meses)  Unnamed: 4  Unnamed: 5  \n",
       "31                                14         NaN         NaN  \n",
       "167                               12         NaN         NaN  \n",
       "14                                 8         NaN         NaN  \n",
       "229                               12         NaN         NaN  \n",
       "127                                6         NaN         NaN  "
      ]
     },
     "execution_count": 4,
     "metadata": {},
     "output_type": "execute_result"
    }
   ],
   "source": [
    "\n",
    "servicos_df.sample(5)\n"
   ]
  },
  {
   "cell_type": "markdown",
   "metadata": {},
   "source": [
    "### 1 - Folha Salarial \n"
   ]
  },
  {
   "cell_type": "markdown",
   "metadata": {},
   "source": [
    "\n"
   ]
  },
  {
   "cell_type": "code",
   "execution_count": 5,
   "metadata": {},
   "outputs": [
    {
     "name": "stdout",
     "output_type": "stream",
     "text": [
      "\u001b[1;34mO Total da Folha de Pagamento é: \u001b[1;32mR$ 2,717,493.22\u001b[m \n"
     ]
    }
   ],
   "source": [
    "\n",
    "funcionarios_df['Total_Folha'] = funcionarios_df.loc[:,'Salario Base':'VR'].sum(axis=1)\n",
    "total_folha_pagamento = funcionarios_df['Total_Folha'].sum(axis=0)\n",
    "print('\\033[1;34mO Total da Folha de Pagamento é: \\033[1;32mR$ {:,.2f}\\033[m '.format(total_folha_pagamento))\n"
   ]
  },
  {
   "cell_type": "markdown",
   "metadata": {},
   "source": [
    "### 2 - Faturamento da Empresa"
   ]
  },
  {
   "cell_type": "code",
   "execution_count": 6,
   "metadata": {},
   "outputs": [
    {
     "name": "stdout",
     "output_type": "stream",
     "text": [
      "\u001b[1;34mO Faturamento da Empresa foi: \u001b[1;32mR$ 5,519,160.00\u001b[m\n"
     ]
    }
   ],
   "source": [
    "\n",
    "f_t = servicos_df[['ID Cliente','Tempo Total de Contrato (Meses)']].merge(clientes_df[['ID Cliente','Valor Contrato Mensal']])\n",
    "f_t['Faturamento Total'] = f_t['Tempo Total de Contrato (Meses)'] * f_t['Valor Contrato Mensal']\n",
    "print('\\033[1;34mO Faturamento da Empresa foi: \\033[1;32mR$ {:,.2f}\\033[m'.format(sum(f_t['Faturamento Total'])))\n"
   ]
  },
  {
   "cell_type": "markdown",
   "metadata": {},
   "source": [
    "### 3 - Percentual de Funcionarios Que Fecharam Contrato"
   ]
  },
  {
   "cell_type": "code",
   "execution_count": 7,
   "metadata": {},
   "outputs": [
    {
     "name": "stdout",
     "output_type": "stream",
     "text": [
      "\u001b[1;34mPercentual de Funcionarios que fecharam contrato: \u001b[1;32m86.84%\u001b[m\n"
     ]
    }
   ],
   "source": [
    "\n",
    "a = len(servicos_df['ID Funcionário'].unique())\n",
    "a_t = len(funcionarios_df['ID Funcionário'])\n",
    "print('\\033[1;34mPercentual de Funcionarios que fecharam contrato: \\033[1;32m{:.2%}\\033[m'.format(a/a_t))\n"
   ]
  },
  {
   "cell_type": "markdown",
   "metadata": {},
   "source": [
    "### 4 - Qtde Contratos por Área"
   ]
  },
  {
   "cell_type": "code",
   "execution_count": 8,
   "metadata": {},
   "outputs": [
    {
     "data": {
      "text/plain": [
       "Administrativo    63\n",
       "Operações         48\n",
       "Comercial         44\n",
       "Financeiro        42\n",
       "Logística         40\n",
       "Name: Area, dtype: int64"
      ]
     },
     "execution_count": 8,
     "metadata": {},
     "output_type": "execute_result"
    }
   ],
   "source": [
    "\n",
    "contratos_area_df = servicos_df.merge(funcionarios_df[['ID Funcionário','Area']], on='ID Funcionário')\n",
    "\n",
    "contratos_area_qtde = contratos_area_df['Area']\n",
    "\n",
    "contratos_area_qtde.value_counts()\n"
   ]
  },
  {
   "cell_type": "code",
   "execution_count": 9,
   "metadata": {},
   "outputs": [
    {
     "data": {
      "image/png": "[encoded data removed]",
      "text/plain": [
       "<Figure size 432x288 with 1 Axes>"
      ]
     },
     "metadata": {},
     "output_type": "display_data"
    }
   ],
   "source": [
    "plt.style.use('ggplot')\n",
    "\n",
    "contratos_area_qtde = contratos_area_df['Area'].value_counts()\n",
    "\n",
    "contratos_area_qtde.plot(kind='barh', \n",
    "                           xlabel= 'Área', \n",
    "                           ylabel = 'Tempo Todal de Contrado em Meses', \n",
    "                           title = 'Quantidade de Contratos Por Área',\n",
    "                           color = '#0000FF'\n",
    "                          ) \n",
    "\n",
    "plt.yticks(rotation=45);\n"
   ]
  },
  {
   "cell_type": "markdown",
   "metadata": {},
   "source": [
    "### 5 - Funcioários por Área"
   ]
  },
  {
   "cell_type": "code",
   "execution_count": 10,
   "metadata": {},
   "outputs": [
    {
     "data": {
      "image/png": "[encoded data removed]",
      "text/plain": [
       "<Figure size 432x288 with 1 Axes>"
      ]
     },
     "metadata": {},
     "output_type": "display_data"
    }
   ],
   "source": [
    "\n",
    "funcionarios_por_area = funcionarios_df['Area'].value_counts()\n",
    "\n",
    "funcionarios_por_area.plot(kind='bar', \n",
    "                           xlabel= 'Área', \n",
    "                           ylabel = 'Funcionários', \n",
    "                           title = 'Funcionários por Área',\n",
    "                           color = '#0000ff'\n",
    "                          ); \n"
   ]
  },
  {
   "cell_type": "markdown",
   "metadata": {},
   "source": [
    "### 6 - Ticket Médio Mensal"
   ]
  },
  {
   "cell_type": "code",
   "execution_count": 11,
   "metadata": {},
   "outputs": [
    {
     "name": "stdout",
     "output_type": "stream",
     "text": [
      "\u001b[1;34mTicket Médio Mensal = \u001b[1;32mR$ 2,502.56\u001b[m\n"
     ]
    }
   ],
   "source": [
    "\n",
    "ticket = clientes_df['Valor Contrato Mensal'].mean()\n",
    "print('\\033[1;34mTicket Médio Mensal = \\033[1;32mR$ {:,.2f}\\033[m'.format(ticket))            \n"
   ]
  }
 ],
 "metadata": {
  "kernelspec": {
   "display_name": "Python 3",
   "language": "python",
   "name": "python3"
  },
  "language_info": {
   "codemirror_mode": {
    "name": "ipython",
    "version": 3
   },
   "file_extension": ".py",
   "mimetype": "text/x-python",
   "name": "python",
   "nbconvert_exporter": "python",
   "pygments_lexer": "ipython3",
   "version": "3.8.8"
  }
 },
 "nbformat": 4,
 "nbformat_minor": 4
}
